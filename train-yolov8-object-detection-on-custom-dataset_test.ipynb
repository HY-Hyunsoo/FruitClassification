!nvidia-smi

import os
HOME = os.getcwd()
print(HOME)

# Pip install method (recommended)

!pip install ultralytics==8.0.20

from IPython import display
display.clear_output()

import ultralytics
ultralytics.checks()

from ultralytics import YOLO

!mkdir {HOME}/datasets
%cd {HOME}/datasets

!pip install roboflow --quiet

from roboflow import Roboflow
rf = Roboflow(api_key="V7BKIIUTui6ZGYCqGrzT")
project = rf.workspace("fruitclassification-dqola").project("fruitclassification-jx6nu")
dataset = project.version(1).download("yolov8")

%cd {HOME}

!yolo task=detect mode=train model=yolov8s.pt data={dataset.location}/data.yaml epochs=25 imgsz=640 plots=True

%cd {HOME}/runs/detect/train/weights
!ls

from google.colab import files
files.download('best.pt')
